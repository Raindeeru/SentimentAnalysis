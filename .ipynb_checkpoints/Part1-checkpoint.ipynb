{
 "cells": [
  {
   "cell_type": "code",
   "execution_count": 5,
   "id": "66debc4c-daba-426a-9eaf-3df6efeb332d",
   "metadata": {
    "collapsed": false,
    "jupyter": {
     "outputs_hidden": false,
     "source_hidden": false
    }
   },
   "outputs": [
    {
     "data": {
      "text/html": [
       "<div>\n",
       "<style scoped>\n",
       "    .dataframe tbody tr th:only-of-type {\n",
       "        vertical-align: middle;\n",
       "    }\n",
       "\n",
       "    .dataframe tbody tr th {\n",
       "        vertical-align: top;\n",
       "    }\n",
       "\n",
       "    .dataframe thead th {\n",
       "        text-align: right;\n",
       "    }\n",
       "</style>\n",
       "<table border=\"1\" class=\"dataframe\">\n",
       "  <thead>\n",
       "    <tr style=\"text-align: right;\">\n",
       "      <th></th>\n",
       "      <th>Unnamed: 0</th>\n",
       "      <th>urlDrugName</th>\n",
       "      <th>rating</th>\n",
       "      <th>effectiveness</th>\n",
       "      <th>sideEffects</th>\n",
       "      <th>condition</th>\n",
       "      <th>benefitsReview</th>\n",
       "      <th>sideEffectsReview</th>\n",
       "      <th>commentsReview</th>\n",
       "    </tr>\n",
       "  </thead>\n",
       "  <tbody>\n",
       "    <tr>\n",
       "      <th>0</th>\n",
       "      <td>2202</td>\n",
       "      <td>enalapril</td>\n",
       "      <td>4</td>\n",
       "      <td>Highly Effective</td>\n",
       "      <td>Mild Side Effects</td>\n",
       "      <td>management of congestive heart failure</td>\n",
       "      <td>slowed the progression of left ventricular dys...</td>\n",
       "      <td>cough, hypotension , proteinuria, impotence , ...</td>\n",
       "      <td>monitor blood pressure , weight and asses for ...</td>\n",
       "    </tr>\n",
       "    <tr>\n",
       "      <th>1</th>\n",
       "      <td>3117</td>\n",
       "      <td>ortho-tri-cyclen</td>\n",
       "      <td>1</td>\n",
       "      <td>Highly Effective</td>\n",
       "      <td>Severe Side Effects</td>\n",
       "      <td>birth prevention</td>\n",
       "      <td>Although this type of birth control has more c...</td>\n",
       "      <td>Heavy Cycle, Cramps, Hot Flashes, Fatigue, Lon...</td>\n",
       "      <td>I Hate This Birth Control, I Would Not Suggest...</td>\n",
       "    </tr>\n",
       "    <tr>\n",
       "      <th>2</th>\n",
       "      <td>1146</td>\n",
       "      <td>ponstel</td>\n",
       "      <td>10</td>\n",
       "      <td>Highly Effective</td>\n",
       "      <td>No Side Effects</td>\n",
       "      <td>menstrual cramps</td>\n",
       "      <td>I was used to having cramps so badly that they...</td>\n",
       "      <td>Heavier bleeding and clotting than normal.</td>\n",
       "      <td>I took 2 pills at the onset of my menstrual cr...</td>\n",
       "    </tr>\n",
       "    <tr>\n",
       "      <th>3</th>\n",
       "      <td>3947</td>\n",
       "      <td>prilosec</td>\n",
       "      <td>3</td>\n",
       "      <td>Marginally Effective</td>\n",
       "      <td>Mild Side Effects</td>\n",
       "      <td>acid reflux</td>\n",
       "      <td>The acid reflux went away for a few months aft...</td>\n",
       "      <td>Constipation, dry mouth and some mild dizzines...</td>\n",
       "      <td>I was given Prilosec prescription at a dose of...</td>\n",
       "    </tr>\n",
       "    <tr>\n",
       "      <th>4</th>\n",
       "      <td>1951</td>\n",
       "      <td>lyrica</td>\n",
       "      <td>2</td>\n",
       "      <td>Marginally Effective</td>\n",
       "      <td>Severe Side Effects</td>\n",
       "      <td>fibromyalgia</td>\n",
       "      <td>I think that the Lyrica was starting to help w...</td>\n",
       "      <td>I felt extremely drugged and dopey.  Could not...</td>\n",
       "      <td>See above</td>\n",
       "    </tr>\n",
       "  </tbody>\n",
       "</table>\n",
       "</div>"
      ],
      "text/plain": [
       "   Unnamed: 0       urlDrugName  rating         effectiveness  \\\n",
       "0        2202         enalapril       4      Highly Effective   \n",
       "1        3117  ortho-tri-cyclen       1      Highly Effective   \n",
       "2        1146           ponstel      10      Highly Effective   \n",
       "3        3947          prilosec       3  Marginally Effective   \n",
       "4        1951            lyrica       2  Marginally Effective   \n",
       "\n",
       "           sideEffects                               condition  \\\n",
       "0    Mild Side Effects  management of congestive heart failure   \n",
       "1  Severe Side Effects                        birth prevention   \n",
       "2      No Side Effects                        menstrual cramps   \n",
       "3    Mild Side Effects                             acid reflux   \n",
       "4  Severe Side Effects                            fibromyalgia   \n",
       "\n",
       "                                      benefitsReview  \\\n",
       "0  slowed the progression of left ventricular dys...   \n",
       "1  Although this type of birth control has more c...   \n",
       "2  I was used to having cramps so badly that they...   \n",
       "3  The acid reflux went away for a few months aft...   \n",
       "4  I think that the Lyrica was starting to help w...   \n",
       "\n",
       "                                   sideEffectsReview  \\\n",
       "0  cough, hypotension , proteinuria, impotence , ...   \n",
       "1  Heavy Cycle, Cramps, Hot Flashes, Fatigue, Lon...   \n",
       "2         Heavier bleeding and clotting than normal.   \n",
       "3  Constipation, dry mouth and some mild dizzines...   \n",
       "4  I felt extremely drugged and dopey.  Could not...   \n",
       "\n",
       "                                      commentsReview  \n",
       "0  monitor blood pressure , weight and asses for ...  \n",
       "1  I Hate This Birth Control, I Would Not Suggest...  \n",
       "2  I took 2 pills at the onset of my menstrual cr...  \n",
       "3  I was given Prilosec prescription at a dose of...  \n",
       "4                                          See above  "
      ]
     },
     "execution_count": 5,
     "metadata": {},
     "output_type": "execute_result"
    }
   ],
   "source": [
    "import pandas as pd #importing pandas to use dataframes\n",
    "\n",
    "drugs = pd.read_csv('drugLibTrain_raw.tsv', sep = '\\t') #pd.read_csv is used to load the dataframe however since the datta is in .tsv format, sep= '\\t'\n",
    "                                                        #is used because the values of a .tsv file is separated by tabs\n",
    "drugs.head(5) #this is used to see the first 5 rows of the tsv file"
   ]
  },
  {
   "cell_type": "code",
   "execution_count": 6,
   "id": "8e277274-09dd-4173-8105-1284c662d807",
   "metadata": {},
   "outputs": [
    {
     "data": {
      "text/plain": [
       "(3107, 9)"
      ]
     },
     "execution_count": 6,
     "metadata": {},
     "output_type": "execute_result"
    }
   ],
   "source": [
    "drugs.shape #used to see the number of rows and columns (rows, columns)"
   ]
  },
  {
   "cell_type": "code",
   "execution_count": 10,
   "id": "c3e8dc05-2cfc-48f3-97bc-e7faa591285f",
   "metadata": {},
   "outputs": [
    {
     "name": "stdout",
     "output_type": "stream",
     "text": [
      "<class 'pandas.core.frame.DataFrame'>\n",
      "RangeIndex: 3107 entries, 0 to 3106\n",
      "Data columns (total 9 columns):\n",
      " #   Column             Non-Null Count  Dtype \n",
      "---  ------             --------------  ----- \n",
      " 0   Unnamed: 0         3107 non-null   int64 \n",
      " 1   urlDrugName        3107 non-null   object\n",
      " 2   rating             3107 non-null   int64 \n",
      " 3   effectiveness      3107 non-null   object\n",
      " 4   sideEffects        3107 non-null   object\n",
      " 5   condition          3106 non-null   object\n",
      " 6   benefitsReview     3089 non-null   object\n",
      " 7   sideEffectsReview  3032 non-null   object\n",
      " 8   commentsReview     3095 non-null   object\n",
      "dtypes: int64(2), object(7)\n",
      "memory usage: 218.6+ KB\n"
     ]
    }
   ],
   "source": [
    "drugs.info() #this is also used to see the number of rows and columns\n",
    "             #this is used to show the number of non-null values in each column"
   ]
  },
  {
   "cell_type": "code",
   "execution_count": 11,
   "id": "0473574a-8bfc-4bed-a94b-1f30d493b399",
   "metadata": {},
   "outputs": [
    {
     "data": {
      "text/plain": [
       "Index(['Unnamed: 0', 'urlDrugName', 'rating', 'effectiveness', 'sideEffects',\n",
       "       'condition', 'benefitsReview', 'sideEffectsReview', 'commentsReview'],\n",
       "      dtype='object')"
      ]
     },
     "execution_count": 11,
     "metadata": {},
     "output_type": "execute_result"
    }
   ],
   "source": [
    "drugs.columns  #shows all columns in the dataframe"
   ]
  },
  {
   "cell_type": "markdown",
   "id": "cd9a586e-95c1-421a-9098-1ba4cc4f15e2",
   "metadata": {},
   "source": [
    "### Identify Key Columns: \n",
    "- Determine which column contains the text data that you will\n",
    "analyze for sentiment.\n",
    "  - urlDrugName\n",
    "  - sideEffects\n",
    "  - sideEffectsReview\n",
    "\n",
    "- Identify the column that contains the sentiment labels\n",
    "  - sideEffects\n",
    "      - Extremely Severe Side Effects\n",
    "      - Severe Side Effects\n",
    "      - Moderate Side Effects\n",
    "      - Mild Side Effects\n",
    "      - No Side Effects\n"
   ]
  },
  {
   "cell_type": "code",
   "execution_count": 15,
   "id": "760aaee5-531c-41c8-8c22-5df63b48572b",
   "metadata": {},
   "outputs": [
    {
     "data": {
      "text/plain": [
       "array(['Mild Side Effects', 'Severe Side Effects', 'No Side Effects',\n",
       "       'Extremely Severe Side Effects', 'Moderate Side Effects'],\n",
       "      dtype=object)"
      ]
     },
     "execution_count": 15,
     "metadata": {},
     "output_type": "execute_result"
    }
   ],
   "source": [
    "sideEffects = drugs['sideEffects'].unique()\n",
    "sideEffects\n",
    "\n",
    "#this is used to see unique rows in the 'sideEffects' column"
   ]
  },
  {
   "cell_type": "markdown",
   "id": "55812496-69aa-4d58-ab45-12957f950950",
   "metadata": {},
   "source": [
    "GeeksforGeeks. (2022, September 13). How to load a TSV file into a Pandas DataFrame? GeeksforGeeks. https://www.geeksforgeeks.org/how-to-load-a-tsv-file-into-a-pandas-dataframe/\n",
    "\n",
    "GeeksforGeeks. (2024, November 28). Get unique values from a column in Pandas DataFrame. GeeksforGeeks. https://www.geeksforgeeks.org/get-unique-values-from-a-column-in-pandas-dataframe/\n",
    "\n",
    "Markdown Cells — Jupyter Notebook 7.4.2 documentation. (2015). Readthedocs.io.\n",
    "https://jupyternotebook.readthedocs.io/en/stable/examples/Notebook/Working%20With%20Markdown%20Cells.html\n",
    "\n",
    "Running the Notebook — Jupyter Documentation 4.1.1 alpha documentation. (n.d.). https://docs.jupyter.org/en/latest/running.html#running\n",
    "\n",
    "‌UCI Machine Learning Repository. (n.d.). https://archive.ics.uci.edu/dataset/461/drug+review+dataset+druglib+com\n",
    "\n",
    "\n"
   ]
  },
  {
   "cell_type": "code",
   "execution_count": null,
   "id": "34905c89-c338-4c96-ba19-fa857a8d6e2b",
   "metadata": {},
   "outputs": [],
   "source": []
  },
  {
   "cell_type": "code",
   "execution_count": null,
   "id": "6bc23daf-baab-43e3-9ec6-5465c47ea341",
   "metadata": {},
   "outputs": [],
   "source": []
  }
 ],
 "metadata": {
  "kernelspec": {
   "display_name": "Python 3 (ipykernel)",
   "language": "python",
   "name": "python3"
  },
  "language_info": {
   "codemirror_mode": {
    "name": "ipython",
    "version": 3
   },
   "file_extension": ".py",
   "mimetype": "text/x-python",
   "name": "python",
   "nbconvert_exporter": "python",
   "pygments_lexer": "ipython3",
   "version": "3.12.3"
  },
  "widgets": {
   "application/vnd.jupyter.widget-state+json": {
    "state": {},
    "version_major": 2,
    "version_minor": 0
   }
  }
 },
 "nbformat": 4,
 "nbformat_minor": 5
}
